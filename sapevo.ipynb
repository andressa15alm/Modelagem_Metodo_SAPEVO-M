{
 "cells": [
  {
   "cell_type": "code",
   "execution_count": 17,
   "id": "8fecfcc5",
   "metadata": {},
   "outputs": [],
   "source": [
    "import pandas as pd\n",
    "import matplotlib as plt\n",
    "import numpy as np"
   ]
  },
  {
   "cell_type": "code",
   "execution_count": 7,
   "id": "59fba399",
   "metadata": {},
   "outputs": [
    {
     "data": {
      "text/html": [
       "<div>\n",
       "<style scoped>\n",
       "    .dataframe tbody tr th:only-of-type {\n",
       "        vertical-align: middle;\n",
       "    }\n",
       "\n",
       "    .dataframe tbody tr th {\n",
       "        vertical-align: top;\n",
       "    }\n",
       "\n",
       "    .dataframe thead th {\n",
       "        text-align: right;\n",
       "    }\n",
       "</style>\n",
       "<table border=\"1\" class=\"dataframe\">\n",
       "  <thead>\n",
       "    <tr style=\"text-align: right;\">\n",
       "      <th></th>\n",
       "      <th>Marca</th>\n",
       "      <th>Serie</th>\n",
       "      <th>Tipo de processador</th>\n",
       "      <th>Memoria em GB</th>\n",
       "      <th>Modelo de placa de video</th>\n",
       "    </tr>\n",
       "  </thead>\n",
       "  <tbody>\n",
       "    <tr>\n",
       "      <th>0</th>\n",
       "      <td>ACER</td>\n",
       "      <td>Acer Notebook Gamer Nitro 5</td>\n",
       "      <td>Intel Core i5</td>\n",
       "      <td>8</td>\n",
       "      <td>NVIDIA GeForce GTX 1650</td>\n",
       "    </tr>\n",
       "    <tr>\n",
       "      <th>1</th>\n",
       "      <td>Dell</td>\n",
       "      <td>Notebook Dell Inspiron</td>\n",
       "      <td>Intel Core i7</td>\n",
       "      <td>16</td>\n",
       "      <td>NVIDIA</td>\n",
       "    </tr>\n",
       "    <tr>\n",
       "      <th>2</th>\n",
       "      <td>VAIO</td>\n",
       "      <td>Vaio FE14</td>\n",
       "      <td>Core i7 2.7 GHz</td>\n",
       "      <td>8</td>\n",
       "      <td>Intel Iris Xe Graphics</td>\n",
       "    </tr>\n",
       "    <tr>\n",
       "      <th>3</th>\n",
       "      <td>Lenovo</td>\n",
       "      <td>Gaming 3</td>\n",
       "      <td>AMD R Series</td>\n",
       "      <td>8</td>\n",
       "      <td>NVIDIA GeForce GTX 1650</td>\n",
       "    </tr>\n",
       "  </tbody>\n",
       "</table>\n",
       "</div>"
      ],
      "text/plain": [
       "    Marca                        Serie Tipo de processador  Memoria em GB  \\\n",
       "0    ACER  Acer Notebook Gamer Nitro 5       Intel Core i5              8   \n",
       "1    Dell       Notebook Dell Inspiron       Intel Core i7             16   \n",
       "2    VAIO                    Vaio FE14     Core i7 2.7 GHz              8   \n",
       "3  Lenovo                     Gaming 3        AMD R Series              8   \n",
       "\n",
       "  Modelo de placa de video  \n",
       "0  NVIDIA GeForce GTX 1650  \n",
       "1                   NVIDIA  \n",
       "2   Intel Iris Xe Graphics  \n",
       "3  NVIDIA GeForce GTX 1650  "
      ]
     },
     "execution_count": 7,
     "metadata": {},
     "output_type": "execute_result"
    }
   ],
   "source": [
    "df = pd.read_csv('Pasta1.csv',sep=';')\n",
    "df"
   ]
  },
  {
   "cell_type": "markdown",
   "id": "39913ebe",
   "metadata": {},
   "source": [
    "Será necessario re-organizar o dataframe para poder aplicar os métodos ordinais da pesquisa operacional"
   ]
  },
  {
   "cell_type": "markdown",
   "id": "4774ac0e",
   "metadata": {},
   "source": [
    "# Método SAPEVO-M"
   ]
  },
  {
   "cell_type": "code",
   "execution_count": null,
   "id": "acbcb40f",
   "metadata": {},
   "outputs": [],
   "source": []
  },
  {
   "cell_type": "markdown",
   "id": "98a9abbd",
   "metadata": {},
   "source": [
    "### Passo 1: Avaliação dos critérios"
   ]
  },
  {
   "cell_type": "markdown",
   "id": "a280ecf6",
   "metadata": {},
   "source": [
    "avaliação do decisor 1"
   ]
  },
  {
   "cell_type": "code",
   "execution_count": 34,
   "id": "edaf3f18",
   "metadata": {},
   "outputs": [],
   "source": [
    "# Matriz quadrada tres por tres\n",
    "av_criterios = {\n",
    "    \"tipo de processador\": pd.Series([0, -1, 0], index=[\"tipo de processador\",\"Memoria em GB\",\"Modelo de placa de video\"]),\n",
    "    \"Memoria em GB\": pd.Series([1, 0, 2], index=[\"tipo de processador\",\"Memoria em GB\",\"Modelo de placa de video\"]),\n",
    "    \"Modelo de placa de video\": pd.Series([0, -2, 0], index=[\"tipo de processador\",\"Memoria em GB\",\"Modelo de placa de video\"]),\n",
    "}\n",
    "df_criterios = pd.DataFrame(av_criterios)"
   ]
  },
  {
   "cell_type": "markdown",
   "id": "1360bfc6",
   "metadata": {},
   "source": [
    "Avaliação do primeiro decisor"
   ]
  },
  {
   "cell_type": "code",
   "execution_count": 35,
   "id": "a3c0fcd8",
   "metadata": {},
   "outputs": [
    {
     "data": {
      "text/html": [
       "<div>\n",
       "<style scoped>\n",
       "    .dataframe tbody tr th:only-of-type {\n",
       "        vertical-align: middle;\n",
       "    }\n",
       "\n",
       "    .dataframe tbody tr th {\n",
       "        vertical-align: top;\n",
       "    }\n",
       "\n",
       "    .dataframe thead th {\n",
       "        text-align: right;\n",
       "    }\n",
       "</style>\n",
       "<table border=\"1\" class=\"dataframe\">\n",
       "  <thead>\n",
       "    <tr style=\"text-align: right;\">\n",
       "      <th></th>\n",
       "      <th>tipo de processador</th>\n",
       "      <th>Memoria em GB</th>\n",
       "      <th>Modelo de placa de video</th>\n",
       "    </tr>\n",
       "  </thead>\n",
       "  <tbody>\n",
       "    <tr>\n",
       "      <th>tipo de processador</th>\n",
       "      <td>0</td>\n",
       "      <td>1</td>\n",
       "      <td>0</td>\n",
       "    </tr>\n",
       "    <tr>\n",
       "      <th>Memoria em GB</th>\n",
       "      <td>-1</td>\n",
       "      <td>0</td>\n",
       "      <td>-2</td>\n",
       "    </tr>\n",
       "    <tr>\n",
       "      <th>Modelo de placa de video</th>\n",
       "      <td>0</td>\n",
       "      <td>2</td>\n",
       "      <td>0</td>\n",
       "    </tr>\n",
       "  </tbody>\n",
       "</table>\n",
       "</div>"
      ],
      "text/plain": [
       "                          tipo de processador  Memoria em GB  \\\n",
       "tipo de processador                         0              1   \n",
       "Memoria em GB                              -1              0   \n",
       "Modelo de placa de video                    0              2   \n",
       "\n",
       "                          Modelo de placa de video  \n",
       "tipo de processador                              0  \n",
       "Memoria em GB                                   -2  \n",
       "Modelo de placa de video                         0  "
      ]
     },
     "execution_count": 35,
     "metadata": {},
     "output_type": "execute_result"
    }
   ],
   "source": [
    "df_criterios"
   ]
  },
  {
   "cell_type": "code",
   "execution_count": 36,
   "id": "de0710ba",
   "metadata": {},
   "outputs": [],
   "source": [
    "dt_n = df_criterios.values"
   ]
  },
  {
   "cell_type": "code",
   "execution_count": 37,
   "id": "5240c4b6",
   "metadata": {},
   "outputs": [
    {
     "data": {
      "text/plain": [
       "array([[ 0,  1,  0],\n",
       "       [-1,  0, -2],\n",
       "       [ 0,  2,  0]], dtype=int64)"
      ]
     },
     "execution_count": 37,
     "metadata": {},
     "output_type": "execute_result"
    }
   ],
   "source": [
    "dt_n"
   ]
  },
  {
   "cell_type": "code",
   "execution_count": 40,
   "id": "4d95fda0",
   "metadata": {},
   "outputs": [],
   "source": [
    "ponto_criterio = np.sum(dt_n, axis=1)"
   ]
  },
  {
   "cell_type": "code",
   "execution_count": 41,
   "id": "e9176aed",
   "metadata": {},
   "outputs": [
    {
     "data": {
      "text/plain": [
       "array([ 1, -3,  2], dtype=int64)"
      ]
     },
     "execution_count": 41,
     "metadata": {},
     "output_type": "execute_result"
    }
   ],
   "source": [
    "ponto_criterio"
   ]
  },
  {
   "cell_type": "markdown",
   "id": "f77f1446",
   "metadata": {},
   "source": [
    "normalização da pontuação,\n",
    "fórmula matemática: v = aij - min aij / max aij - min aij"
   ]
  },
  {
   "cell_type": "code",
   "execution_count": 159,
   "id": "d38b5f1d",
   "metadata": {},
   "outputs": [],
   "source": [
    "norm_criterios = (ponto_criterio[0] - ponto_criterio[1]) / (ponto_criterio[-1] - ponto_criterio[-2])\n"
   ]
  },
  {
   "cell_type": "code",
   "execution_count": 160,
   "id": "e9ff836c",
   "metadata": {},
   "outputs": [],
   "source": [
    "norm2_criterios = (ponto_criterio[1] - ponto_criterio[1]) / (ponto_criterio[-1] - ponto_criterio[-2])\n"
   ]
  },
  {
   "cell_type": "code",
   "execution_count": 161,
   "id": "b250109e",
   "metadata": {},
   "outputs": [],
   "source": [
    "norm3_criterios = (ponto_criterio[2] - ponto_criterio[1]) / (ponto_criterio[-1] - ponto_criterio[-2])\n"
   ]
  },
  {
   "cell_type": "code",
   "execution_count": 48,
   "id": "a7864b67",
   "metadata": {},
   "outputs": [
    {
     "data": {
      "text/plain": [
       "array([0.8, 0. , 1. ])"
      ]
     },
     "execution_count": 48,
     "metadata": {},
     "output_type": "execute_result"
    }
   ],
   "source": [
    "#array da normalização\n",
    "pont_narl =np.array([norm_criterios,norm2_criterios,norm3_criterios])\n",
    "pont_narl"
   ]
  },
  {
   "cell_type": "markdown",
   "id": "f79d144d",
   "metadata": {},
   "source": [
    "segundo o metodo SAPEVO_M caso algum valor do vetor dos criterios for 0, como é o caso do segundo valor do vetor gerado pelo decisor 1, ele deve ser substituido por 1% do menor subsequente."
   ]
  },
  {
   "cell_type": "code",
   "execution_count": 50,
   "id": "2cab04c7",
   "metadata": {},
   "outputs": [
    {
     "data": {
      "text/plain": [
       "array([0.8  , 0.008, 1.   ])"
      ]
     },
     "execution_count": 50,
     "metadata": {},
     "output_type": "execute_result"
    }
   ],
   "source": [
    "# pesos finais do decisor 1\n",
    "pont_narl =np.array([norm_criterios,norm_criterios * 0.01,norm3_criterios])\n",
    "pont_narl"
   ]
  },
  {
   "cell_type": "markdown",
   "id": "107f0410",
   "metadata": {},
   "source": [
    "Avaliação do decisor 2"
   ]
  },
  {
   "cell_type": "code",
   "execution_count": 58,
   "id": "04c9e57a",
   "metadata": {},
   "outputs": [],
   "source": [
    "# Matriz quadrada tres por tres\n",
    "av_criterios_dc2 = {\n",
    "    \"tipo de processador\": pd.Series([0, -2, -1], index=[\"tipo de processador\",\"Memoria em GB\",\"Modelo de placa de video\"]),\n",
    "    \"Memoria em GB\": pd.Series([2, 0, 0], index=[\"tipo de processador\",\"Memoria em GB\",\"Modelo de placa de video\"]),\n",
    "    \"Modelo de placa de video\": pd.Series([1, 0, 0], index=[\"tipo de processador\",\"Memoria em GB\",\"Modelo de placa de video\"]),\n",
    "}\n",
    "df_criterios_dc2 = pd.DataFrame(av_criterios_dc2)"
   ]
  },
  {
   "cell_type": "code",
   "execution_count": 59,
   "id": "952dfe96",
   "metadata": {},
   "outputs": [
    {
     "data": {
      "text/html": [
       "<div>\n",
       "<style scoped>\n",
       "    .dataframe tbody tr th:only-of-type {\n",
       "        vertical-align: middle;\n",
       "    }\n",
       "\n",
       "    .dataframe tbody tr th {\n",
       "        vertical-align: top;\n",
       "    }\n",
       "\n",
       "    .dataframe thead th {\n",
       "        text-align: right;\n",
       "    }\n",
       "</style>\n",
       "<table border=\"1\" class=\"dataframe\">\n",
       "  <thead>\n",
       "    <tr style=\"text-align: right;\">\n",
       "      <th></th>\n",
       "      <th>tipo de processador</th>\n",
       "      <th>Memoria em GB</th>\n",
       "      <th>Modelo de placa de video</th>\n",
       "    </tr>\n",
       "  </thead>\n",
       "  <tbody>\n",
       "    <tr>\n",
       "      <th>tipo de processador</th>\n",
       "      <td>0</td>\n",
       "      <td>2</td>\n",
       "      <td>1</td>\n",
       "    </tr>\n",
       "    <tr>\n",
       "      <th>Memoria em GB</th>\n",
       "      <td>-2</td>\n",
       "      <td>0</td>\n",
       "      <td>0</td>\n",
       "    </tr>\n",
       "    <tr>\n",
       "      <th>Modelo de placa de video</th>\n",
       "      <td>-1</td>\n",
       "      <td>0</td>\n",
       "      <td>0</td>\n",
       "    </tr>\n",
       "  </tbody>\n",
       "</table>\n",
       "</div>"
      ],
      "text/plain": [
       "                          tipo de processador  Memoria em GB  \\\n",
       "tipo de processador                         0              2   \n",
       "Memoria em GB                              -2              0   \n",
       "Modelo de placa de video                   -1              0   \n",
       "\n",
       "                          Modelo de placa de video  \n",
       "tipo de processador                              1  \n",
       "Memoria em GB                                    0  \n",
       "Modelo de placa de video                         0  "
      ]
     },
     "execution_count": 59,
     "metadata": {},
     "output_type": "execute_result"
    }
   ],
   "source": [
    "df_criterios_dc2"
   ]
  },
  {
   "cell_type": "code",
   "execution_count": 61,
   "id": "3ae2227e",
   "metadata": {},
   "outputs": [
    {
     "data": {
      "text/plain": [
       "array([[ 0,  2,  1],\n",
       "       [-2,  0,  0],\n",
       "       [-1,  0,  0]], dtype=int64)"
      ]
     },
     "execution_count": 61,
     "metadata": {},
     "output_type": "execute_result"
    }
   ],
   "source": [
    "dt_n2 = df_criterios_dc2.values\n",
    "dt_n2 "
   ]
  },
  {
   "cell_type": "code",
   "execution_count": 162,
   "id": "049eb035",
   "metadata": {},
   "outputs": [],
   "source": [
    "ponto_criterio2 = np.sum(dt_n2, axis=1)\n"
   ]
  },
  {
   "cell_type": "code",
   "execution_count": 163,
   "id": "2d421d17",
   "metadata": {},
   "outputs": [],
   "source": [
    "norm_criterios_d2 = (ponto_criterio2[0] - ponto_criterio2[1]) / (ponto_criterio2[0] - ponto_criterio2[-2])\n"
   ]
  },
  {
   "cell_type": "code",
   "execution_count": 164,
   "id": "169a4487",
   "metadata": {},
   "outputs": [],
   "source": [
    "norm1_criterios_d2 = (ponto_criterio2[1]- ponto_criterio2[1]) / (ponto_criterio2[0] - ponto_criterio2[-2])\n"
   ]
  },
  {
   "cell_type": "code",
   "execution_count": 165,
   "id": "4fbbf905",
   "metadata": {},
   "outputs": [],
   "source": [
    "norm2_criterios_d2 = (ponto_criterio2[2]- ponto_criterio2[1]) / (ponto_criterio2[0] - ponto_criterio2[-2])\n"
   ]
  },
  {
   "cell_type": "code",
   "execution_count": 166,
   "id": "005ad8ea",
   "metadata": {},
   "outputs": [],
   "source": [
    "pont_narl_d2 =np.array([norm_criterios_d2,norm1_criterios_d2,norm2_criterios_d2])\n"
   ]
  },
  {
   "cell_type": "code",
   "execution_count": 168,
   "id": "25582de9",
   "metadata": {},
   "outputs": [
    {
     "data": {
      "text/plain": [
       "array([1.   , 0.002, 0.2  ])"
      ]
     },
     "execution_count": 168,
     "metadata": {},
     "output_type": "execute_result"
    }
   ],
   "source": [
    "#peso final\n",
    "pont_narl_d2 =np.array([norm_criterios_d2,norm2_criterios_d2 * 0.01,norm2_criterios_d2])\n",
    "pont_narl_d2"
   ]
  },
  {
   "cell_type": "markdown",
   "id": "28e53f3a",
   "metadata": {},
   "source": [
    "copilando os pesos dos decisores"
   ]
  },
  {
   "cell_type": "code",
   "execution_count": 80,
   "id": "33fbb7fb",
   "metadata": {},
   "outputs": [
    {
     "data": {
      "text/html": [
       "<div>\n",
       "<style scoped>\n",
       "    .dataframe tbody tr th:only-of-type {\n",
       "        vertical-align: middle;\n",
       "    }\n",
       "\n",
       "    .dataframe tbody tr th {\n",
       "        vertical-align: top;\n",
       "    }\n",
       "\n",
       "    .dataframe thead th {\n",
       "        text-align: right;\n",
       "    }\n",
       "</style>\n",
       "<table border=\"1\" class=\"dataframe\">\n",
       "  <thead>\n",
       "    <tr style=\"text-align: right;\">\n",
       "      <th></th>\n",
       "      <th>d1</th>\n",
       "      <th>d2</th>\n",
       "    </tr>\n",
       "  </thead>\n",
       "  <tbody>\n",
       "    <tr>\n",
       "      <th>tipo de processador</th>\n",
       "      <td>0.800</td>\n",
       "      <td>1.000</td>\n",
       "    </tr>\n",
       "    <tr>\n",
       "      <th>Memoria em GB</th>\n",
       "      <td>0.008</td>\n",
       "      <td>0.002</td>\n",
       "    </tr>\n",
       "    <tr>\n",
       "      <th>Modelo de placa de video</th>\n",
       "      <td>1.000</td>\n",
       "      <td>0.200</td>\n",
       "    </tr>\n",
       "  </tbody>\n",
       "</table>\n",
       "</div>"
      ],
      "text/plain": [
       "                             d1     d2\n",
       "tipo de processador       0.800  1.000\n",
       "Memoria em GB             0.008  0.002\n",
       "Modelo de placa de video  1.000  0.200"
      ]
     },
     "execution_count": 80,
     "metadata": {},
     "output_type": "execute_result"
    }
   ],
   "source": [
    "df_dec = pd.DataFrame({'d1':pont_narl,'d2':pont_narl_d2},index=[\"tipo de processador\",\"Memoria em GB\",\"Modelo de placa de video\"])\n",
    "df_dec"
   ]
  },
  {
   "cell_type": "code",
   "execution_count": 82,
   "id": "0d165845",
   "metadata": {},
   "outputs": [
    {
     "data": {
      "text/plain": [
       "array([[0.8  , 1.   ],\n",
       "       [0.008, 0.002],\n",
       "       [1.   , 0.2  ]])"
      ]
     },
     "execution_count": 82,
     "metadata": {},
     "output_type": "execute_result"
    }
   ],
   "source": [
    "vetor_peso =df_dec.values\n",
    "vetor_peso"
   ]
  },
  {
   "cell_type": "code",
   "execution_count": 190,
   "id": "f184a38e",
   "metadata": {},
   "outputs": [
    {
     "name": "stdout",
     "output_type": "stream",
     "text": [
      "[1.8  0.01 1.2 ]\n"
     ]
    }
   ],
   "source": [
    "# vetor resultante dos criterios\n",
    "soma_pesos = np.sum(vetor_peso, axis=1)\n",
    "print(soma_pesos)"
   ]
  },
  {
   "cell_type": "markdown",
   "id": "75655ab5",
   "metadata": {},
   "source": [
    "### Passo 2: Avaliação das Alternativas"
   ]
  },
  {
   "cell_type": "markdown",
   "id": "cf89f90f",
   "metadata": {},
   "source": [
    "Avaliação do decisor 1"
   ]
  },
  {
   "cell_type": "code",
   "execution_count": 88,
   "id": "75cb00fa",
   "metadata": {},
   "outputs": [],
   "source": [
    "# Matriz quadrada tres por tres avalição das alternativas para o processador\n",
    "av_alternativas_dc1 = {\n",
    "    \"ACER\": pd.Series([0, 2, 2], index=[\"ACER\",\"Dell\",\"VAIO\"]),\n",
    "    \"Dell\": pd.Series([-2, 0, 1], index=[\"ACER\",\"Dell\",\"VAIO\"]),\n",
    "    \"VAIO\": pd.Series([-2, -1, 0], index=[\"ACER\",\"Dell\",\"VAIO\"]),\n",
    "}\n",
    "df_alternativas_dc1 = pd.DataFrame(av_alternativas_dc1)"
   ]
  },
  {
   "cell_type": "code",
   "execution_count": 89,
   "id": "d714f384",
   "metadata": {},
   "outputs": [
    {
     "data": {
      "text/html": [
       "<div>\n",
       "<style scoped>\n",
       "    .dataframe tbody tr th:only-of-type {\n",
       "        vertical-align: middle;\n",
       "    }\n",
       "\n",
       "    .dataframe tbody tr th {\n",
       "        vertical-align: top;\n",
       "    }\n",
       "\n",
       "    .dataframe thead th {\n",
       "        text-align: right;\n",
       "    }\n",
       "</style>\n",
       "<table border=\"1\" class=\"dataframe\">\n",
       "  <thead>\n",
       "    <tr style=\"text-align: right;\">\n",
       "      <th></th>\n",
       "      <th>ACER</th>\n",
       "      <th>Dell</th>\n",
       "      <th>VAIO</th>\n",
       "    </tr>\n",
       "  </thead>\n",
       "  <tbody>\n",
       "    <tr>\n",
       "      <th>ACER</th>\n",
       "      <td>0</td>\n",
       "      <td>-2</td>\n",
       "      <td>-2</td>\n",
       "    </tr>\n",
       "    <tr>\n",
       "      <th>Dell</th>\n",
       "      <td>2</td>\n",
       "      <td>0</td>\n",
       "      <td>-1</td>\n",
       "    </tr>\n",
       "    <tr>\n",
       "      <th>VAIO</th>\n",
       "      <td>2</td>\n",
       "      <td>1</td>\n",
       "      <td>0</td>\n",
       "    </tr>\n",
       "  </tbody>\n",
       "</table>\n",
       "</div>"
      ],
      "text/plain": [
       "      ACER  Dell  VAIO\n",
       "ACER     0    -2    -2\n",
       "Dell     2     0    -1\n",
       "VAIO     2     1     0"
      ]
     },
     "execution_count": 89,
     "metadata": {},
     "output_type": "execute_result"
    }
   ],
   "source": [
    "df_alternativas_dc1"
   ]
  },
  {
   "cell_type": "code",
   "execution_count": 90,
   "id": "a56fa36c",
   "metadata": {},
   "outputs": [
    {
     "data": {
      "text/plain": [
       "array([[ 0, -2, -2],\n",
       "       [ 2,  0, -1],\n",
       "       [ 2,  1,  0]], dtype=int64)"
      ]
     },
     "execution_count": 90,
     "metadata": {},
     "output_type": "execute_result"
    }
   ],
   "source": [
    "vet_alter_c1 = df_alternativas_dc1.values\n",
    "vet_alter_c1"
   ]
  },
  {
   "cell_type": "code",
   "execution_count": 169,
   "id": "89037ce2",
   "metadata": {},
   "outputs": [],
   "source": [
    "soma_alter_c1 = np.sum(vet_alter_c1,axis=1)\n"
   ]
  },
  {
   "cell_type": "code",
   "execution_count": 170,
   "id": "7ae467e5",
   "metadata": {},
   "outputs": [],
   "source": [
    "normal_dec1 = (soma_alter_c1[0] - soma_alter_c1[0])/(soma_alter_c1[-1] - soma_alter_c1[0])\n"
   ]
  },
  {
   "cell_type": "code",
   "execution_count": 171,
   "id": "febfe7dc",
   "metadata": {},
   "outputs": [],
   "source": [
    "normal2_dec1 = (soma_alter_c1[1] - soma_alter_c1[0])/(soma_alter_c1[-1] - soma_alter_c1[0])"
   ]
  },
  {
   "cell_type": "code",
   "execution_count": 172,
   "id": "29e6717a",
   "metadata": {},
   "outputs": [],
   "source": [
    "normal3_dec1 = (soma_alter_c1[2] - soma_alter_c1[0])/(soma_alter_c1[-1] - soma_alter_c1[0])"
   ]
  },
  {
   "cell_type": "code",
   "execution_count": 191,
   "id": "63934eb5",
   "metadata": {},
   "outputs": [
    {
     "name": "stdout",
     "output_type": "stream",
     "text": [
      "[0.         0.71428571 1.        ]\n"
     ]
    }
   ],
   "source": [
    "#vetor final processador decisor 1\n",
    "processador_vetor_dc1 = np.array([normal_dec1,normal2_dec1,normal3_dec1])\n",
    "print(processador_vetor_dc1)"
   ]
  },
  {
   "cell_type": "code",
   "execution_count": 102,
   "id": "1a036045",
   "metadata": {},
   "outputs": [],
   "source": [
    "# Matriz quadrada tres por tres avalição das alternativas para o memoria\n",
    "av_alternativas_dc1_memoria = {\n",
    "    \"ACER\": pd.Series([0, 0, -1], index=[\"ACER\",\"Dell\",\"VAIO\"]),\n",
    "    \"Dell\": pd.Series([0, 0, 0], index=[\"ACER\",\"Dell\",\"VAIO\"]),\n",
    "    \"VAIO\": pd.Series([1, 0, 0], index=[\"ACER\",\"Dell\",\"VAIO\"]),\n",
    "}\n",
    "df_alternativas_memoria_dc1 = pd.DataFrame(av_alternativas_dc1_memoria)"
   ]
  },
  {
   "cell_type": "code",
   "execution_count": 103,
   "id": "6fe4a20a",
   "metadata": {},
   "outputs": [
    {
     "data": {
      "text/html": [
       "<div>\n",
       "<style scoped>\n",
       "    .dataframe tbody tr th:only-of-type {\n",
       "        vertical-align: middle;\n",
       "    }\n",
       "\n",
       "    .dataframe tbody tr th {\n",
       "        vertical-align: top;\n",
       "    }\n",
       "\n",
       "    .dataframe thead th {\n",
       "        text-align: right;\n",
       "    }\n",
       "</style>\n",
       "<table border=\"1\" class=\"dataframe\">\n",
       "  <thead>\n",
       "    <tr style=\"text-align: right;\">\n",
       "      <th></th>\n",
       "      <th>ACER</th>\n",
       "      <th>Dell</th>\n",
       "      <th>VAIO</th>\n",
       "    </tr>\n",
       "  </thead>\n",
       "  <tbody>\n",
       "    <tr>\n",
       "      <th>ACER</th>\n",
       "      <td>0</td>\n",
       "      <td>0</td>\n",
       "      <td>1</td>\n",
       "    </tr>\n",
       "    <tr>\n",
       "      <th>Dell</th>\n",
       "      <td>0</td>\n",
       "      <td>0</td>\n",
       "      <td>0</td>\n",
       "    </tr>\n",
       "    <tr>\n",
       "      <th>VAIO</th>\n",
       "      <td>-1</td>\n",
       "      <td>0</td>\n",
       "      <td>0</td>\n",
       "    </tr>\n",
       "  </tbody>\n",
       "</table>\n",
       "</div>"
      ],
      "text/plain": [
       "      ACER  Dell  VAIO\n",
       "ACER     0     0     1\n",
       "Dell     0     0     0\n",
       "VAIO    -1     0     0"
      ]
     },
     "execution_count": 103,
     "metadata": {},
     "output_type": "execute_result"
    }
   ],
   "source": [
    "df_alternativas_memoria_dc1"
   ]
  },
  {
   "cell_type": "code",
   "execution_count": 105,
   "id": "28cd80b1",
   "metadata": {},
   "outputs": [
    {
     "data": {
      "text/plain": [
       "array([[ 0,  0,  1],\n",
       "       [ 0,  0,  0],\n",
       "       [-1,  0,  0]], dtype=int64)"
      ]
     },
     "execution_count": 105,
     "metadata": {},
     "output_type": "execute_result"
    }
   ],
   "source": [
    "vet_alter_memoria_c1 = df_alternativas_memoria_dc1.values\n",
    "vet_alter_memoria_c1 "
   ]
  },
  {
   "cell_type": "code",
   "execution_count": 175,
   "id": "3240a01a",
   "metadata": {},
   "outputs": [],
   "source": [
    "soma_alter_memoria_c1 = np.sum(vet_alter_memoria_c1,axis=1)"
   ]
  },
  {
   "cell_type": "code",
   "execution_count": 176,
   "id": "7e9d3866",
   "metadata": {},
   "outputs": [],
   "source": [
    "normal_memoria_dec1 = (soma_alter_memoria_c1[0] - soma_alter_memoria_c1[-1])/(soma_alter_memoria_c1[0] - soma_alter_memoria_c1[-1])\n"
   ]
  },
  {
   "cell_type": "code",
   "execution_count": 177,
   "id": "66825aa3",
   "metadata": {},
   "outputs": [],
   "source": [
    "normal2_memoria_dec1 = (soma_alter_memoria_c1[1] - soma_alter_memoria_c1[-1])/(soma_alter_memoria_c1[0] - soma_alter_memoria_c1[-1])\n"
   ]
  },
  {
   "cell_type": "code",
   "execution_count": 178,
   "id": "cec7692e",
   "metadata": {},
   "outputs": [],
   "source": [
    "normal3_memoria_dec1 = (soma_alter_memoria_c1[2] - soma_alter_memoria_c1[-1])/(soma_alter_memoria_c1[0] - soma_alter_memoria_c1[-1])\n"
   ]
  },
  {
   "cell_type": "code",
   "execution_count": 192,
   "id": "ccefc682",
   "metadata": {},
   "outputs": [
    {
     "name": "stdout",
     "output_type": "stream",
     "text": [
      "[1.  0.5 0. ]\n"
     ]
    }
   ],
   "source": [
    "#vetor final memoria decisor 1\n",
    "memoria_final_c1 = np.array([normal_memoria_dec1,normal2_memoria_dec1,normal3_memoria_dec1])\n",
    "print(memoria_final_c1)"
   ]
  },
  {
   "cell_type": "code",
   "execution_count": 113,
   "id": "dd8feb8b",
   "metadata": {},
   "outputs": [],
   "source": [
    "# Matriz quadrada tres por tres avalição das alternativas para o placa de vdeo\n",
    "av_alternativas_dc1_plcvideo = {\n",
    "    \"ACER\": pd.Series([0, 1, -1], index=[\"ACER\",\"Dell\",\"VAIO\"]),\n",
    "    \"Dell\": pd.Series([-1, 0, -3], index=[\"ACER\",\"Dell\",\"VAIO\"]),\n",
    "    \"VAIO\": pd.Series([1, 3, 0], index=[\"ACER\",\"Dell\",\"VAIO\"]),\n",
    "}\n",
    "df_alternativas_plvd_dc1 = pd.DataFrame(av_alternativas_dc1_plcvideo)"
   ]
  },
  {
   "cell_type": "code",
   "execution_count": 114,
   "id": "93b267fb",
   "metadata": {},
   "outputs": [
    {
     "data": {
      "text/html": [
       "<div>\n",
       "<style scoped>\n",
       "    .dataframe tbody tr th:only-of-type {\n",
       "        vertical-align: middle;\n",
       "    }\n",
       "\n",
       "    .dataframe tbody tr th {\n",
       "        vertical-align: top;\n",
       "    }\n",
       "\n",
       "    .dataframe thead th {\n",
       "        text-align: right;\n",
       "    }\n",
       "</style>\n",
       "<table border=\"1\" class=\"dataframe\">\n",
       "  <thead>\n",
       "    <tr style=\"text-align: right;\">\n",
       "      <th></th>\n",
       "      <th>ACER</th>\n",
       "      <th>Dell</th>\n",
       "      <th>VAIO</th>\n",
       "    </tr>\n",
       "  </thead>\n",
       "  <tbody>\n",
       "    <tr>\n",
       "      <th>ACER</th>\n",
       "      <td>0</td>\n",
       "      <td>-1</td>\n",
       "      <td>1</td>\n",
       "    </tr>\n",
       "    <tr>\n",
       "      <th>Dell</th>\n",
       "      <td>1</td>\n",
       "      <td>0</td>\n",
       "      <td>3</td>\n",
       "    </tr>\n",
       "    <tr>\n",
       "      <th>VAIO</th>\n",
       "      <td>-1</td>\n",
       "      <td>-3</td>\n",
       "      <td>0</td>\n",
       "    </tr>\n",
       "  </tbody>\n",
       "</table>\n",
       "</div>"
      ],
      "text/plain": [
       "      ACER  Dell  VAIO\n",
       "ACER     0    -1     1\n",
       "Dell     1     0     3\n",
       "VAIO    -1    -3     0"
      ]
     },
     "execution_count": 114,
     "metadata": {},
     "output_type": "execute_result"
    }
   ],
   "source": [
    "df_alternativas_plvd_dc1"
   ]
  },
  {
   "cell_type": "code",
   "execution_count": 115,
   "id": "c8cf6a23",
   "metadata": {},
   "outputs": [
    {
     "data": {
      "text/plain": [
       "array([[ 0, -1,  1],\n",
       "       [ 1,  0,  3],\n",
       "       [-1, -3,  0]], dtype=int64)"
      ]
     },
     "execution_count": 115,
     "metadata": {},
     "output_type": "execute_result"
    }
   ],
   "source": [
    "vet_alter_pcvd_c1 = df_alternativas_plvd_dc1.values\n",
    "vet_alter_pcvd_c1 "
   ]
  },
  {
   "cell_type": "code",
   "execution_count": 179,
   "id": "749b0ef4",
   "metadata": {},
   "outputs": [],
   "source": [
    "soma_alter_plvd_c1 = np.sum(vet_alter_pcvd_c1 ,axis=1)"
   ]
  },
  {
   "cell_type": "code",
   "execution_count": 180,
   "id": "9cf5244a",
   "metadata": {},
   "outputs": [],
   "source": [
    "normal_plvd_dec1 = (soma_alter_plvd_c1[0] - soma_alter_plvd_c1[-1])/(soma_alter_plvd_c1[1] - soma_alter_plvd_c1[-1])"
   ]
  },
  {
   "cell_type": "code",
   "execution_count": 181,
   "id": "232272c1",
   "metadata": {},
   "outputs": [],
   "source": [
    "normal2_plvd_dec1 = (soma_alter_plvd_c1[1] - soma_alter_plvd_c1[-1])/(soma_alter_plvd_c1[1] - soma_alter_plvd_c1[-1])"
   ]
  },
  {
   "cell_type": "code",
   "execution_count": 182,
   "id": "e7e25cbc",
   "metadata": {},
   "outputs": [],
   "source": [
    "normal3_plvd_dec1 = (soma_alter_plvd_c1[2] - soma_alter_plvd_c1[-1])/(soma_alter_plvd_c1[1] - soma_alter_plvd_c1[-1])"
   ]
  },
  {
   "cell_type": "code",
   "execution_count": 193,
   "id": "09051bf1",
   "metadata": {},
   "outputs": [
    {
     "name": "stdout",
     "output_type": "stream",
     "text": [
      "[0.5 1.  0. ]\n"
     ]
    }
   ],
   "source": [
    "#placa de video vetor final\n",
    "plv_array_dc1=np.array([normal_plvd_dec1,normal2_plvd_dec1,normal3_plvd_dec1])\n",
    "print(plv_array_dc1)"
   ]
  },
  {
   "cell_type": "markdown",
   "id": "3cc353c3",
   "metadata": {},
   "source": [
    "avaliação das alternativas para o decisor 2"
   ]
  },
  {
   "cell_type": "code",
   "execution_count": 130,
   "id": "ed5dba06",
   "metadata": {},
   "outputs": [],
   "source": [
    "# Matriz quadrada tres por tres avalição das alternativas para o processador\n",
    "av_alternativas_dc2 = {\n",
    "    \"ACER\": pd.Series([0, 1, 3], index=[\"ACER\",\"Dell\",\"VAIO\"]),\n",
    "    \"Dell\": pd.Series([-1, 0, 2], index=[\"ACER\",\"Dell\",\"VAIO\"]),\n",
    "    \"VAIO\": pd.Series([-3, -2, 0], index=[\"ACER\",\"Dell\",\"VAIO\"]),\n",
    "}\n",
    "df_alternativas_dc2 = pd.DataFrame(av_alternativas_dc2)"
   ]
  },
  {
   "cell_type": "code",
   "execution_count": 131,
   "id": "af4e1507",
   "metadata": {},
   "outputs": [
    {
     "data": {
      "text/html": [
       "<div>\n",
       "<style scoped>\n",
       "    .dataframe tbody tr th:only-of-type {\n",
       "        vertical-align: middle;\n",
       "    }\n",
       "\n",
       "    .dataframe tbody tr th {\n",
       "        vertical-align: top;\n",
       "    }\n",
       "\n",
       "    .dataframe thead th {\n",
       "        text-align: right;\n",
       "    }\n",
       "</style>\n",
       "<table border=\"1\" class=\"dataframe\">\n",
       "  <thead>\n",
       "    <tr style=\"text-align: right;\">\n",
       "      <th></th>\n",
       "      <th>ACER</th>\n",
       "      <th>Dell</th>\n",
       "      <th>VAIO</th>\n",
       "    </tr>\n",
       "  </thead>\n",
       "  <tbody>\n",
       "    <tr>\n",
       "      <th>ACER</th>\n",
       "      <td>0</td>\n",
       "      <td>-1</td>\n",
       "      <td>-3</td>\n",
       "    </tr>\n",
       "    <tr>\n",
       "      <th>Dell</th>\n",
       "      <td>1</td>\n",
       "      <td>0</td>\n",
       "      <td>-2</td>\n",
       "    </tr>\n",
       "    <tr>\n",
       "      <th>VAIO</th>\n",
       "      <td>3</td>\n",
       "      <td>2</td>\n",
       "      <td>0</td>\n",
       "    </tr>\n",
       "  </tbody>\n",
       "</table>\n",
       "</div>"
      ],
      "text/plain": [
       "      ACER  Dell  VAIO\n",
       "ACER     0    -1    -3\n",
       "Dell     1     0    -2\n",
       "VAIO     3     2     0"
      ]
     },
     "execution_count": 131,
     "metadata": {},
     "output_type": "execute_result"
    }
   ],
   "source": [
    "df_alternativas_dc2"
   ]
  },
  {
   "cell_type": "code",
   "execution_count": 132,
   "id": "a19a932c",
   "metadata": {},
   "outputs": [
    {
     "data": {
      "text/plain": [
       "array([[ 0, -1, -3],\n",
       "       [ 1,  0, -2],\n",
       "       [ 3,  2,  0]], dtype=int64)"
      ]
     },
     "execution_count": 132,
     "metadata": {},
     "output_type": "execute_result"
    }
   ],
   "source": [
    "vet_alter_c2 = df_alternativas_dc2.values\n",
    "vet_alter_c2"
   ]
  },
  {
   "cell_type": "code",
   "execution_count": 183,
   "id": "b2a90782",
   "metadata": {},
   "outputs": [],
   "source": [
    "soma_alter_c2 = np.sum(vet_alter_c2,axis=1)"
   ]
  },
  {
   "cell_type": "code",
   "execution_count": 194,
   "id": "4c3ebe9b",
   "metadata": {},
   "outputs": [
    {
     "name": "stdout",
     "output_type": "stream",
     "text": [
      "[0.         0.33333333 1.        ]\n"
     ]
    }
   ],
   "source": [
    "normal_plvd_dec2 = (soma_alter_c2[0] - soma_alter_c2[0])/(soma_alter_c2[-1] - soma_alter_c2[0])\n",
    "normal1_plvd_dec2 = (soma_alter_c2[1] - soma_alter_c2[0])/(soma_alter_c2[-1] - soma_alter_c2[0])\n",
    "normal2_plvd_dec2 = (soma_alter_c2[2] - soma_alter_c2[0])/(soma_alter_c2[-1] - soma_alter_c2[0])\n",
    "\n",
    "processador_normal_dc2= np.array([normal_plvd_dec2,normal1_plvd_dec2,normal2_plvd_dec2])\n",
    "\n",
    "#vetor final processador decisor 2\n",
    "print(processador_normal_dc2)"
   ]
  },
  {
   "cell_type": "code",
   "execution_count": 137,
   "id": "3041030d",
   "metadata": {},
   "outputs": [
    {
     "data": {
      "text/html": [
       "<div>\n",
       "<style scoped>\n",
       "    .dataframe tbody tr th:only-of-type {\n",
       "        vertical-align: middle;\n",
       "    }\n",
       "\n",
       "    .dataframe tbody tr th {\n",
       "        vertical-align: top;\n",
       "    }\n",
       "\n",
       "    .dataframe thead th {\n",
       "        text-align: right;\n",
       "    }\n",
       "</style>\n",
       "<table border=\"1\" class=\"dataframe\">\n",
       "  <thead>\n",
       "    <tr style=\"text-align: right;\">\n",
       "      <th></th>\n",
       "      <th>ACER</th>\n",
       "      <th>Dell</th>\n",
       "      <th>VAIO</th>\n",
       "    </tr>\n",
       "  </thead>\n",
       "  <tbody>\n",
       "    <tr>\n",
       "      <th>ACER</th>\n",
       "      <td>0</td>\n",
       "      <td>-1</td>\n",
       "      <td>-1</td>\n",
       "    </tr>\n",
       "    <tr>\n",
       "      <th>Dell</th>\n",
       "      <td>1</td>\n",
       "      <td>0</td>\n",
       "      <td>1</td>\n",
       "    </tr>\n",
       "    <tr>\n",
       "      <th>VAIO</th>\n",
       "      <td>1</td>\n",
       "      <td>-1</td>\n",
       "      <td>0</td>\n",
       "    </tr>\n",
       "  </tbody>\n",
       "</table>\n",
       "</div>"
      ],
      "text/plain": [
       "      ACER  Dell  VAIO\n",
       "ACER     0    -1    -1\n",
       "Dell     1     0     1\n",
       "VAIO     1    -1     0"
      ]
     },
     "execution_count": 137,
     "metadata": {},
     "output_type": "execute_result"
    }
   ],
   "source": [
    "# Matriz quadrada tres por tres avalição das alternativas para o memoria\n",
    "av_alternativas_dc2_memoria = {\n",
    "    \"ACER\": pd.Series([0, 1, 1], index=[\"ACER\",\"Dell\",\"VAIO\"]),\n",
    "    \"Dell\": pd.Series([-1, 0, -1], index=[\"ACER\",\"Dell\",\"VAIO\"]),\n",
    "    \"VAIO\": pd.Series([-1, 1, 0], index=[\"ACER\",\"Dell\",\"VAIO\"]),\n",
    "}\n",
    "df_alternativas_memoria_dc2 = pd.DataFrame(av_alternativas_dc2_memoria)\n",
    "df_alternativas_memoria_dc2"
   ]
  },
  {
   "cell_type": "code",
   "execution_count": 184,
   "id": "d8c09032",
   "metadata": {},
   "outputs": [],
   "source": [
    "vet_alter_memoria_c2 = df_alternativas_memoria_dc2.values\n",
    "vet_alter_memoria_c2 \n",
    "\n",
    "soma_alter_memoria_c2 = np.sum(vet_alter_memoria_c2,axis=1)"
   ]
  },
  {
   "cell_type": "code",
   "execution_count": 195,
   "id": "f8315de3",
   "metadata": {},
   "outputs": [
    {
     "name": "stdout",
     "output_type": "stream",
     "text": [
      "[0.  1.  0.5]\n"
     ]
    }
   ],
   "source": [
    "normal_memoria_dec2 = (soma_alter_memoria_c2[0] - soma_alter_memoria_c2[0])/(soma_alter_memoria_c2[1] - soma_alter_memoria_c2[0])\n",
    "normal2_memoria_dec2 = (soma_alter_memoria_c2[1] - soma_alter_memoria_c2[0])/(soma_alter_memoria_c2[1] - soma_alter_memoria_c2[0])\n",
    "normal3_memoria_dec2 = (soma_alter_memoria_c2[2] - soma_alter_memoria_c2[0])/(soma_alter_memoria_c2[1] - soma_alter_memoria_c2[0])\n",
    "\n",
    "memoria_nornal_c2 = np.array([normal_memoria_dec2,normal2_memoria_dec2,normal3_memoria_dec2])\n",
    "\n",
    "#vetor final memoria decisor 2\n",
    "print(memoria_nornal_c2)"
   ]
  },
  {
   "cell_type": "code",
   "execution_count": 141,
   "id": "4674c23a",
   "metadata": {},
   "outputs": [
    {
     "data": {
      "text/html": [
       "<div>\n",
       "<style scoped>\n",
       "    .dataframe tbody tr th:only-of-type {\n",
       "        vertical-align: middle;\n",
       "    }\n",
       "\n",
       "    .dataframe tbody tr th {\n",
       "        vertical-align: top;\n",
       "    }\n",
       "\n",
       "    .dataframe thead th {\n",
       "        text-align: right;\n",
       "    }\n",
       "</style>\n",
       "<table border=\"1\" class=\"dataframe\">\n",
       "  <thead>\n",
       "    <tr style=\"text-align: right;\">\n",
       "      <th></th>\n",
       "      <th>ACER</th>\n",
       "      <th>Dell</th>\n",
       "      <th>VAIO</th>\n",
       "    </tr>\n",
       "  </thead>\n",
       "  <tbody>\n",
       "    <tr>\n",
       "      <th>ACER</th>\n",
       "      <td>0</td>\n",
       "      <td>-2</td>\n",
       "      <td>-2</td>\n",
       "    </tr>\n",
       "    <tr>\n",
       "      <th>Dell</th>\n",
       "      <td>2</td>\n",
       "      <td>0</td>\n",
       "      <td>1</td>\n",
       "    </tr>\n",
       "    <tr>\n",
       "      <th>VAIO</th>\n",
       "      <td>2</td>\n",
       "      <td>-1</td>\n",
       "      <td>0</td>\n",
       "    </tr>\n",
       "  </tbody>\n",
       "</table>\n",
       "</div>"
      ],
      "text/plain": [
       "      ACER  Dell  VAIO\n",
       "ACER     0    -2    -2\n",
       "Dell     2     0     1\n",
       "VAIO     2    -1     0"
      ]
     },
     "execution_count": 141,
     "metadata": {},
     "output_type": "execute_result"
    }
   ],
   "source": [
    "# Matriz quadrada tres por tres avalição das alternativas para o placa de vdeo\n",
    "av_alternativas_dc2_plcvideo = {\n",
    "    \"ACER\": pd.Series([0, 2, 2], index=[\"ACER\",\"Dell\",\"VAIO\"]),\n",
    "    \"Dell\": pd.Series([-2, 0, -1], index=[\"ACER\",\"Dell\",\"VAIO\"]),\n",
    "    \"VAIO\": pd.Series([-2, 1, 0], index=[\"ACER\",\"Dell\",\"VAIO\"]),\n",
    "}\n",
    "df_alternativas_plvd_dc2 = pd.DataFrame(av_alternativas_dc2_plcvideo)\n",
    "df_alternativas_plvd_dc2"
   ]
  },
  {
   "cell_type": "code",
   "execution_count": 185,
   "id": "0105a65d",
   "metadata": {},
   "outputs": [],
   "source": [
    "vet_alter_pcvd_c2 = df_alternativas_plvd_dc2.values\n",
    "soma_alter_plvd_c2 = np.sum(vet_alter_pcvd_c2 ,axis=1)"
   ]
  },
  {
   "cell_type": "code",
   "execution_count": 196,
   "id": "bec0ebc1",
   "metadata": {},
   "outputs": [
    {
     "name": "stdout",
     "output_type": "stream",
     "text": [
      "[0.         1.         0.71428571]\n"
     ]
    }
   ],
   "source": [
    "normal_plvd_dec2 = (soma_alter_plvd_c2[0] - soma_alter_plvd_c2[0])/(soma_alter_plvd_c2[1] - soma_alter_plvd_c2[0])\n",
    "normal2_plvd_dec2 = (soma_alter_plvd_c2[1] - soma_alter_plvd_c2[0])/(soma_alter_plvd_c2[1] - soma_alter_plvd_c2[0])\n",
    "normal3_plvd_dec2 = (soma_alter_plvd_c2[2] - soma_alter_plvd_c2[0])/(soma_alter_plvd_c2[1] - soma_alter_plvd_c2[0])\n",
    "plvd_normal_dc2 = np.array([normal_plvd_dec2,normal2_plvd_dec2,normal3_plvd_dec2])\n",
    "\n",
    "#vetor final placa de video decisor 2\n",
    "print(plvd_normal_dc2)"
   ]
  },
  {
   "cell_type": "markdown",
   "id": "46359fdb",
   "metadata": {},
   "source": [
    "## Agregando as preferencias"
   ]
  },
  {
   "cell_type": "markdown",
   "id": "93ce1c6c",
   "metadata": {},
   "source": [
    "processador"
   ]
  },
  {
   "cell_type": "code",
   "execution_count": 145,
   "id": "0f705ba8",
   "metadata": {},
   "outputs": [
    {
     "data": {
      "text/html": [
       "<div>\n",
       "<style scoped>\n",
       "    .dataframe tbody tr th:only-of-type {\n",
       "        vertical-align: middle;\n",
       "    }\n",
       "\n",
       "    .dataframe tbody tr th {\n",
       "        vertical-align: top;\n",
       "    }\n",
       "\n",
       "    .dataframe thead th {\n",
       "        text-align: right;\n",
       "    }\n",
       "</style>\n",
       "<table border=\"1\" class=\"dataframe\">\n",
       "  <thead>\n",
       "    <tr style=\"text-align: right;\">\n",
       "      <th></th>\n",
       "      <th>d1</th>\n",
       "      <th>d2</th>\n",
       "    </tr>\n",
       "  </thead>\n",
       "  <tbody>\n",
       "    <tr>\n",
       "      <th>ACER</th>\n",
       "      <td>0.000000</td>\n",
       "      <td>0.000000</td>\n",
       "    </tr>\n",
       "    <tr>\n",
       "      <th>DELL</th>\n",
       "      <td>0.714286</td>\n",
       "      <td>0.333333</td>\n",
       "    </tr>\n",
       "    <tr>\n",
       "      <th>VAIO</th>\n",
       "      <td>1.000000</td>\n",
       "      <td>1.000000</td>\n",
       "    </tr>\n",
       "  </tbody>\n",
       "</table>\n",
       "</div>"
      ],
      "text/plain": [
       "            d1        d2\n",
       "ACER  0.000000  0.000000\n",
       "DELL  0.714286  0.333333\n",
       "VAIO  1.000000  1.000000"
      ]
     },
     "execution_count": 145,
     "metadata": {},
     "output_type": "execute_result"
    }
   ],
   "source": [
    "df_agr_proc = pd.DataFrame({'d1':processador_vetor_dc1,'d2':processador_normal_dc2},index=[\"ACER\",\"DELL\",\"VAIO\"])\n",
    "df_agr_proc"
   ]
  },
  {
   "cell_type": "code",
   "execution_count": 186,
   "id": "58d1ead1",
   "metadata": {},
   "outputs": [],
   "source": [
    "df_agr_proc_arr=df_agr_proc.values\n",
    "soma_agr_proc = np.sum(df_agr_proc_arr,axis=1)"
   ]
  },
  {
   "cell_type": "markdown",
   "id": "7a224e93",
   "metadata": {},
   "source": [
    "memória"
   ]
  },
  {
   "cell_type": "code",
   "execution_count": 149,
   "id": "a9d676b4",
   "metadata": {},
   "outputs": [
    {
     "data": {
      "text/html": [
       "<div>\n",
       "<style scoped>\n",
       "    .dataframe tbody tr th:only-of-type {\n",
       "        vertical-align: middle;\n",
       "    }\n",
       "\n",
       "    .dataframe tbody tr th {\n",
       "        vertical-align: top;\n",
       "    }\n",
       "\n",
       "    .dataframe thead th {\n",
       "        text-align: right;\n",
       "    }\n",
       "</style>\n",
       "<table border=\"1\" class=\"dataframe\">\n",
       "  <thead>\n",
       "    <tr style=\"text-align: right;\">\n",
       "      <th></th>\n",
       "      <th>d1</th>\n",
       "      <th>d2</th>\n",
       "    </tr>\n",
       "  </thead>\n",
       "  <tbody>\n",
       "    <tr>\n",
       "      <th>ACER</th>\n",
       "      <td>1.0</td>\n",
       "      <td>0.0</td>\n",
       "    </tr>\n",
       "    <tr>\n",
       "      <th>DELL</th>\n",
       "      <td>0.5</td>\n",
       "      <td>1.0</td>\n",
       "    </tr>\n",
       "    <tr>\n",
       "      <th>VAIO</th>\n",
       "      <td>0.0</td>\n",
       "      <td>0.5</td>\n",
       "    </tr>\n",
       "  </tbody>\n",
       "</table>\n",
       "</div>"
      ],
      "text/plain": [
       "       d1   d2\n",
       "ACER  1.0  0.0\n",
       "DELL  0.5  1.0\n",
       "VAIO  0.0  0.5"
      ]
     },
     "execution_count": 149,
     "metadata": {},
     "output_type": "execute_result"
    }
   ],
   "source": [
    "df_agr_memoria = pd.DataFrame({'d1':memoria_final_c1,'d2':memoria_nornal_c2},index=[\"ACER\",\"DELL\",\"VAIO\"])\n",
    "df_agr_memoria"
   ]
  },
  {
   "cell_type": "code",
   "execution_count": 187,
   "id": "239271bc",
   "metadata": {},
   "outputs": [],
   "source": [
    "df_agr_mem_arr=df_agr_memoria.values\n",
    "soma_agr_mem = np.sum(df_agr_mem_arr,axis=1)"
   ]
  },
  {
   "cell_type": "markdown",
   "id": "4a6823d5",
   "metadata": {},
   "source": [
    "placa de video"
   ]
  },
  {
   "cell_type": "code",
   "execution_count": 151,
   "id": "1b13c3dc",
   "metadata": {},
   "outputs": [
    {
     "data": {
      "text/html": [
       "<div>\n",
       "<style scoped>\n",
       "    .dataframe tbody tr th:only-of-type {\n",
       "        vertical-align: middle;\n",
       "    }\n",
       "\n",
       "    .dataframe tbody tr th {\n",
       "        vertical-align: top;\n",
       "    }\n",
       "\n",
       "    .dataframe thead th {\n",
       "        text-align: right;\n",
       "    }\n",
       "</style>\n",
       "<table border=\"1\" class=\"dataframe\">\n",
       "  <thead>\n",
       "    <tr style=\"text-align: right;\">\n",
       "      <th></th>\n",
       "      <th>d1</th>\n",
       "      <th>d2</th>\n",
       "    </tr>\n",
       "  </thead>\n",
       "  <tbody>\n",
       "    <tr>\n",
       "      <th>ACER</th>\n",
       "      <td>0.5</td>\n",
       "      <td>0.000000</td>\n",
       "    </tr>\n",
       "    <tr>\n",
       "      <th>DELL</th>\n",
       "      <td>1.0</td>\n",
       "      <td>1.000000</td>\n",
       "    </tr>\n",
       "    <tr>\n",
       "      <th>VAIO</th>\n",
       "      <td>0.0</td>\n",
       "      <td>0.714286</td>\n",
       "    </tr>\n",
       "  </tbody>\n",
       "</table>\n",
       "</div>"
      ],
      "text/plain": [
       "       d1        d2\n",
       "ACER  0.5  0.000000\n",
       "DELL  1.0  1.000000\n",
       "VAIO  0.0  0.714286"
      ]
     },
     "execution_count": 151,
     "metadata": {},
     "output_type": "execute_result"
    }
   ],
   "source": [
    "df_agr_plvd = pd.DataFrame({'d1':plv_array_dc1,'d2':plvd_normal_dc2},index=[\"ACER\",\"DELL\",\"VAIO\"])\n",
    "df_agr_plvd"
   ]
  },
  {
   "cell_type": "code",
   "execution_count": 188,
   "id": "afc9740e",
   "metadata": {},
   "outputs": [],
   "source": [
    "df_agr_plvd_arr=df_agr_plvd.values\n",
    "soma_agr_plvd = np.sum(df_agr_plvd_arr,axis=1)"
   ]
  },
  {
   "cell_type": "markdown",
   "id": "0d25a1f2",
   "metadata": {},
   "source": [
    "matriz de decisão"
   ]
  },
  {
   "cell_type": "code",
   "execution_count": 153,
   "id": "1f052de6",
   "metadata": {},
   "outputs": [
    {
     "data": {
      "text/html": [
       "<div>\n",
       "<style scoped>\n",
       "    .dataframe tbody tr th:only-of-type {\n",
       "        vertical-align: middle;\n",
       "    }\n",
       "\n",
       "    .dataframe tbody tr th {\n",
       "        vertical-align: top;\n",
       "    }\n",
       "\n",
       "    .dataframe thead th {\n",
       "        text-align: right;\n",
       "    }\n",
       "</style>\n",
       "<table border=\"1\" class=\"dataframe\">\n",
       "  <thead>\n",
       "    <tr style=\"text-align: right;\">\n",
       "      <th></th>\n",
       "      <th>processador</th>\n",
       "      <th>memoria</th>\n",
       "      <th>placa de video</th>\n",
       "    </tr>\n",
       "  </thead>\n",
       "  <tbody>\n",
       "    <tr>\n",
       "      <th>ACER</th>\n",
       "      <td>0.000000</td>\n",
       "      <td>1.0</td>\n",
       "      <td>0.500000</td>\n",
       "    </tr>\n",
       "    <tr>\n",
       "      <th>DELL</th>\n",
       "      <td>1.047619</td>\n",
       "      <td>1.5</td>\n",
       "      <td>2.000000</td>\n",
       "    </tr>\n",
       "    <tr>\n",
       "      <th>VAIO</th>\n",
       "      <td>2.000000</td>\n",
       "      <td>0.5</td>\n",
       "      <td>0.714286</td>\n",
       "    </tr>\n",
       "  </tbody>\n",
       "</table>\n",
       "</div>"
      ],
      "text/plain": [
       "      processador  memoria  placa de video\n",
       "ACER     0.000000      1.0        0.500000\n",
       "DELL     1.047619      1.5        2.000000\n",
       "VAIO     2.000000      0.5        0.714286"
      ]
     },
     "execution_count": 153,
     "metadata": {},
     "output_type": "execute_result"
    }
   ],
   "source": [
    "df_agr_decision = pd.DataFrame({'processador':soma_agr_proc,'memoria':soma_agr_mem,'placa de video':soma_agr_plvd},index=[\"ACER\",\"DELL\",\"VAIO\"])\n",
    "df_agr_decision"
   ]
  },
  {
   "cell_type": "code",
   "execution_count": 189,
   "id": "53288d46",
   "metadata": {},
   "outputs": [],
   "source": [
    "#multiplicação da matriz de decisão pelo vetor de peso(que foi calculado no processo1)\n",
    "df_agr_decision_arr = df_agr_decision.values"
   ]
  },
  {
   "cell_type": "code",
   "execution_count": 157,
   "id": "4d535914",
   "metadata": {},
   "outputs": [],
   "source": [
    "resultado_final =np.dot(df_agr_decision_arr,soma_pesos)"
   ]
  },
  {
   "cell_type": "code",
   "execution_count": 158,
   "id": "d6206c64",
   "metadata": {},
   "outputs": [
    {
     "data": {
      "text/html": [
       "<div>\n",
       "<style scoped>\n",
       "    .dataframe tbody tr th:only-of-type {\n",
       "        vertical-align: middle;\n",
       "    }\n",
       "\n",
       "    .dataframe tbody tr th {\n",
       "        vertical-align: top;\n",
       "    }\n",
       "\n",
       "    .dataframe thead th {\n",
       "        text-align: right;\n",
       "    }\n",
       "</style>\n",
       "<table border=\"1\" class=\"dataframe\">\n",
       "  <thead>\n",
       "    <tr style=\"text-align: right;\">\n",
       "      <th></th>\n",
       "      <th>pontuação final</th>\n",
       "    </tr>\n",
       "  </thead>\n",
       "  <tbody>\n",
       "    <tr>\n",
       "      <th>ACER</th>\n",
       "      <td>0.610000</td>\n",
       "    </tr>\n",
       "    <tr>\n",
       "      <th>DELL</th>\n",
       "      <td>4.300714</td>\n",
       "    </tr>\n",
       "    <tr>\n",
       "      <th>VAIO</th>\n",
       "      <td>4.462143</td>\n",
       "    </tr>\n",
       "  </tbody>\n",
       "</table>\n",
       "</div>"
      ],
      "text/plain": [
       "      pontuação final\n",
       "ACER         0.610000\n",
       "DELL         4.300714\n",
       "VAIO         4.462143"
      ]
     },
     "execution_count": 158,
     "metadata": {},
     "output_type": "execute_result"
    }
   ],
   "source": [
    "result = pd.DataFrame({'pontuação final':resultado_final},index=[\"ACER\",\"DELL\",\"VAIO\"])\n",
    "result"
   ]
  },
  {
   "cell_type": "code",
   "execution_count": null,
   "id": "e55632cc",
   "metadata": {},
   "outputs": [],
   "source": []
  }
 ],
 "metadata": {
  "kernelspec": {
   "display_name": "Python 3 (ipykernel)",
   "language": "python",
   "name": "python3"
  },
  "language_info": {
   "codemirror_mode": {
    "name": "ipython",
    "version": 3
   },
   "file_extension": ".py",
   "mimetype": "text/x-python",
   "name": "python",
   "nbconvert_exporter": "python",
   "pygments_lexer": "ipython3",
   "version": "3.10.9"
  }
 },
 "nbformat": 4,
 "nbformat_minor": 5
}
